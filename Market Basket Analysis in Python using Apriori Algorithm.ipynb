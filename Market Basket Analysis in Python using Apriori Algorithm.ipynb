{
 "cells": [
  {
   "cell_type": "code",
   "execution_count": null,
   "id": "73e64589",
   "metadata": {},
   "outputs": [],
   "source": [
    "## Code to install any package via python\n",
    "\n",
    "def install_and_import(package):\n",
    "    import importlib\n",
    "    try:\n",
    "        importlib.import_module(package)\n",
    "    except ImportError:\n",
    "        import pip\n",
    "        pip.main(['install', package])\n",
    "    finally:\n",
    "        globals()[package] = importlib.import_module(package)\n",
    "\n",
    "install_and_import('mlxtend')"
   ]
  },
  {
   "cell_type": "code",
   "execution_count": null,
   "id": "e6fcc19a",
   "metadata": {},
   "outputs": [],
   "source": [
    "import pandas as pd\n",
    "from mlxtend.frequent_patterns import apriori\n",
    "from mlxtend.frequent_patterns import association_rules"
   ]
  },
  {
   "cell_type": "code",
   "execution_count": null,
   "id": "e67cab72",
   "metadata": {},
   "outputs": [],
   "source": [
    "df = pd.read_excel('http://archive.ics.uci.edu/ml/machine-learning-databases/00352/Online%20Retail.xlsx')\n",
    "df.head()"
   ]
  },
  {
   "cell_type": "code",
   "execution_count": null,
   "id": "c6e71520",
   "metadata": {},
   "outputs": [],
   "source": [
    "df['Description'] = df['Description'].str.strip()\n",
    "df.dropna(axis = 0, subset=['InvoiceNo'], inplace = True)\n",
    "df['InvoiceNo'] = df['InvoiceNo'].astype('str')\n",
    "df = df[~df['InvoiceNo'].str.contains('C')]"
   ]
  },
  {
   "cell_type": "code",
   "execution_count": null,
   "id": "46d5d16b",
   "metadata": {},
   "outputs": [],
   "source": [
    "df.groupby('Country').count().reset_index().sort_values('InvoiceNo', ascending = False).head()"
   ]
  },
  {
   "cell_type": "code",
   "execution_count": null,
   "id": "aa5dc110",
   "metadata": {},
   "outputs": [],
   "source": [
    "Basket = (df[df['Country']==\"Germany\"]\n",
    "          .groupby(['InvoiceNo', 'Description'])['Quantity']\n",
    "          .sum().unstack().reset_index().fillna(0)\n",
    "          .set_index('InvoiceNo'))\n",
    "\n",
    "Basket.head()"
   ]
  },
  {
   "cell_type": "code",
   "execution_count": null,
   "id": "f35108dc",
   "metadata": {},
   "outputs": [],
   "source": [
    "def sum_to_boolean(x):\n",
    "    if x<=0:\n",
    "        return 0\n",
    "    else:\n",
    "        return 1\n",
    "\n",
    "Basket_Final = Basket.applymap(sum_to_boolean)"
   ]
  },
  {
   "cell_type": "code",
   "execution_count": null,
   "id": "22c8944c",
   "metadata": {},
   "outputs": [],
   "source": [
    "Basket_Final.drop('POSTAGE', inplace=True, axis=1)\n",
    "\n",
    "Basket_Final.head()"
   ]
  },
  {
   "cell_type": "code",
   "execution_count": null,
   "id": "30ffb480",
   "metadata": {},
   "outputs": [],
   "source": [
    "## Apriori to select the most important itemsets\n",
    "Frequent_itemsets = apriori(Basket_Final, min_support = 0.06, use_colnames = True)\n",
    "\n",
    "Frequent_itemsets.sort_values('support', ascending = False).head()"
   ]
  },
  {
   "cell_type": "code",
   "execution_count": null,
   "id": "4a7cc4dc",
   "metadata": {},
   "outputs": [],
   "source": [
    "Asso_Rules = association_rules(Frequent_itemsets, metric = \"lift\", min_threshold = 1)\n",
    "Asso_Rules.sort_values('lift',ascending = False)\n"
   ]
  },
  {
   "cell_type": "code",
   "execution_count": null,
   "id": "95fcdac6",
   "metadata": {},
   "outputs": [],
   "source": [
    "Basket['PLASTERS IN TIN WOODLAND ANIMALS'].sum()"
   ]
  },
  {
   "cell_type": "code",
   "execution_count": null,
   "id": "8d1440fc",
   "metadata": {},
   "outputs": [],
   "source": [
    "Basket['PLASTERS IN TIN CIRCUS PARADE'].sum()"
   ]
  },
  {
   "cell_type": "code",
   "execution_count": null,
   "id": "ce744759",
   "metadata": {},
   "outputs": [],
   "source": [
    "Basket_France = (df[df['Country']==\"France\"]\n",
    "          .groupby(['InvoiceNo', 'Description'])['Quantity']\n",
    "          .sum().unstack().reset_index().fillna(0)\n",
    "          .set_index('InvoiceNo'))\n",
    "\n",
    "def sum_to_boolean(x):\n",
    "    if x<=0:\n",
    "        return 0\n",
    "    else:\n",
    "        return 1\n",
    "\n",
    "Basket_Final_France = Basket_France.applymap(sum_to_boolean)\n",
    "Frequent_itemsets_France = apriori(Basket_Final_France, min_support = 0.06, use_colnames = True)\n",
    "\n",
    "Asso_Rules_France = association_rules(Frequent_itemsets_France, metric = \"lift\", min_threshold = 1)\n",
    "Asso_Rules_France.sort_values('lift',ascending = False).head()"
   ]
  }
 ],
 "metadata": {
  "kernelspec": {
   "display_name": "Python 3 (ipykernel)",
   "language": "python",
   "name": "python3"
  },
  "language_info": {
   "codemirror_mode": {
    "name": "ipython",
    "version": 3
   },
   "file_extension": ".py",
   "mimetype": "text/x-python",
   "name": "python",
   "nbconvert_exporter": "python",
   "pygments_lexer": "ipython3",
   "version": "3.9.13"
  }
 },
 "nbformat": 4,
 "nbformat_minor": 5
}
